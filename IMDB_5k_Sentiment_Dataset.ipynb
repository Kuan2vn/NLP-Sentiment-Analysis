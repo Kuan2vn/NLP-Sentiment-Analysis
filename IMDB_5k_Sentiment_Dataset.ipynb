{
  "nbformat": 4,
  "nbformat_minor": 0,
  "metadata": {
    "colab": {
      "provenance": [],
      "toc_visible": true,
      "gpuType": "T4"
    },
    "kernelspec": {
      "name": "python3",
      "display_name": "Python 3"
    },
    "language_info": {
      "name": "python"
    },
    "accelerator": "GPU"
  },
  "cells": [
    {
      "cell_type": "code",
      "execution_count": null,
      "metadata": {
        "id": "fwP7rXPsSMEA",
        "colab": {
          "base_uri": "https://localhost:8080/"
        },
        "outputId": "12455dff-2a0b-4904-9df5-107f2333b685"
      },
      "outputs": [
        {
          "output_type": "stream",
          "name": "stdout",
          "text": [
            "2024-01-30 07:03:16.709300: E external/local_xla/xla/stream_executor/cuda/cuda_dnn.cc:9261] Unable to register cuDNN factory: Attempting to register factory for plugin cuDNN when one has already been registered\n",
            "2024-01-30 07:03:16.709356: E external/local_xla/xla/stream_executor/cuda/cuda_fft.cc:607] Unable to register cuFFT factory: Attempting to register factory for plugin cuFFT when one has already been registered\n",
            "2024-01-30 07:03:16.710678: E external/local_xla/xla/stream_executor/cuda/cuda_blas.cc:1515] Unable to register cuBLAS factory: Attempting to register factory for plugin cuBLAS when one has already been registered\n",
            "2024-01-30 07:03:16.717684: I tensorflow/core/platform/cpu_feature_guard.cc:182] This TensorFlow binary is optimized to use available CPU instructions in performance-critical operations.\n",
            "To enable the following instructions: AVX2 FMA, in other operations, rebuild TensorFlow with the appropriate compiler flags.\n",
            "2024-01-30 07:03:17.782527: W tensorflow/compiler/tf2tensorrt/utils/py_utils.cc:38] TF-TRT Warning: Could not find TensorRT\n",
            "2024-01-30 07:03:21.543996: I external/local_xla/xla/stream_executor/cuda/cuda_executor.cc:901] successful NUMA node read from SysFS had negative value (-1), but there must be at least one NUMA node, so returning NUMA node zero. See more at https://github.com/torvalds/linux/blob/v6.0/Documentation/ABI/testing/sysfs-bus-pci#L344-L355\n",
            "2024-01-30 07:03:21.544625: I external/local_xla/xla/stream_executor/cuda/cuda_executor.cc:901] successful NUMA node read from SysFS had negative value (-1), but there must be at least one NUMA node, so returning NUMA node zero. See more at https://github.com/torvalds/linux/blob/v6.0/Documentation/ABI/testing/sysfs-bus-pci#L344-L355\n",
            "2024-01-30 07:03:21.544886: I external/local_xla/xla/stream_executor/cuda/cuda_executor.cc:901] successful NUMA node read from SysFS had negative value (-1), but there must be at least one NUMA node, so returning NUMA node zero. See more at https://github.com/torvalds/linux/blob/v6.0/Documentation/ABI/testing/sysfs-bus-pci#L344-L355\n",
            "Collecting en-core-web-md==3.6.0\n",
            "  Downloading https://github.com/explosion/spacy-models/releases/download/en_core_web_md-3.6.0/en_core_web_md-3.6.0-py3-none-any.whl (42.8 MB)\n",
            "\u001b[2K     \u001b[90m━━━━━━━━━━━━━━━━━━━━━━━━━━━━━━━━━━━━━━━━\u001b[0m \u001b[32m42.8/42.8 MB\u001b[0m \u001b[31m12.8 MB/s\u001b[0m eta \u001b[36m0:00:00\u001b[0m\n",
            "\u001b[?25hRequirement already satisfied: spacy<3.7.0,>=3.6.0 in /usr/local/lib/python3.10/dist-packages (from en-core-web-md==3.6.0) (3.6.1)\n",
            "Requirement already satisfied: spacy-legacy<3.1.0,>=3.0.11 in /usr/local/lib/python3.10/dist-packages (from spacy<3.7.0,>=3.6.0->en-core-web-md==3.6.0) (3.0.12)\n",
            "Requirement already satisfied: spacy-loggers<2.0.0,>=1.0.0 in /usr/local/lib/python3.10/dist-packages (from spacy<3.7.0,>=3.6.0->en-core-web-md==3.6.0) (1.0.5)\n",
            "Requirement already satisfied: murmurhash<1.1.0,>=0.28.0 in /usr/local/lib/python3.10/dist-packages (from spacy<3.7.0,>=3.6.0->en-core-web-md==3.6.0) (1.0.10)\n",
            "Requirement already satisfied: cymem<2.1.0,>=2.0.2 in /usr/local/lib/python3.10/dist-packages (from spacy<3.7.0,>=3.6.0->en-core-web-md==3.6.0) (2.0.8)\n",
            "Requirement already satisfied: preshed<3.1.0,>=3.0.2 in /usr/local/lib/python3.10/dist-packages (from spacy<3.7.0,>=3.6.0->en-core-web-md==3.6.0) (3.0.9)\n",
            "Requirement already satisfied: thinc<8.2.0,>=8.1.8 in /usr/local/lib/python3.10/dist-packages (from spacy<3.7.0,>=3.6.0->en-core-web-md==3.6.0) (8.1.12)\n",
            "Requirement already satisfied: wasabi<1.2.0,>=0.9.1 in /usr/local/lib/python3.10/dist-packages (from spacy<3.7.0,>=3.6.0->en-core-web-md==3.6.0) (1.1.2)\n",
            "Requirement already satisfied: srsly<3.0.0,>=2.4.3 in /usr/local/lib/python3.10/dist-packages (from spacy<3.7.0,>=3.6.0->en-core-web-md==3.6.0) (2.4.8)\n",
            "Requirement already satisfied: catalogue<2.1.0,>=2.0.6 in /usr/local/lib/python3.10/dist-packages (from spacy<3.7.0,>=3.6.0->en-core-web-md==3.6.0) (2.0.10)\n",
            "Requirement already satisfied: typer<0.10.0,>=0.3.0 in /usr/local/lib/python3.10/dist-packages (from spacy<3.7.0,>=3.6.0->en-core-web-md==3.6.0) (0.9.0)\n",
            "Requirement already satisfied: pathy>=0.10.0 in /usr/local/lib/python3.10/dist-packages (from spacy<3.7.0,>=3.6.0->en-core-web-md==3.6.0) (0.11.0)\n",
            "Requirement already satisfied: smart-open<7.0.0,>=5.2.1 in /usr/local/lib/python3.10/dist-packages (from spacy<3.7.0,>=3.6.0->en-core-web-md==3.6.0) (6.4.0)\n",
            "Requirement already satisfied: tqdm<5.0.0,>=4.38.0 in /usr/local/lib/python3.10/dist-packages (from spacy<3.7.0,>=3.6.0->en-core-web-md==3.6.0) (4.66.1)\n",
            "Requirement already satisfied: numpy>=1.15.0 in /usr/local/lib/python3.10/dist-packages (from spacy<3.7.0,>=3.6.0->en-core-web-md==3.6.0) (1.23.5)\n",
            "Requirement already satisfied: requests<3.0.0,>=2.13.0 in /usr/local/lib/python3.10/dist-packages (from spacy<3.7.0,>=3.6.0->en-core-web-md==3.6.0) (2.31.0)\n",
            "Requirement already satisfied: pydantic!=1.8,!=1.8.1,<3.0.0,>=1.7.4 in /usr/local/lib/python3.10/dist-packages (from spacy<3.7.0,>=3.6.0->en-core-web-md==3.6.0) (1.10.14)\n",
            "Requirement already satisfied: jinja2 in /usr/local/lib/python3.10/dist-packages (from spacy<3.7.0,>=3.6.0->en-core-web-md==3.6.0) (3.1.3)\n",
            "Requirement already satisfied: setuptools in /usr/local/lib/python3.10/dist-packages (from spacy<3.7.0,>=3.6.0->en-core-web-md==3.6.0) (67.7.2)\n",
            "Requirement already satisfied: packaging>=20.0 in /usr/local/lib/python3.10/dist-packages (from spacy<3.7.0,>=3.6.0->en-core-web-md==3.6.0) (23.2)\n",
            "Requirement already satisfied: langcodes<4.0.0,>=3.2.0 in /usr/local/lib/python3.10/dist-packages (from spacy<3.7.0,>=3.6.0->en-core-web-md==3.6.0) (3.3.0)\n",
            "Requirement already satisfied: pathlib-abc==0.1.1 in /usr/local/lib/python3.10/dist-packages (from pathy>=0.10.0->spacy<3.7.0,>=3.6.0->en-core-web-md==3.6.0) (0.1.1)\n",
            "Requirement already satisfied: typing-extensions>=4.2.0 in /usr/local/lib/python3.10/dist-packages (from pydantic!=1.8,!=1.8.1,<3.0.0,>=1.7.4->spacy<3.7.0,>=3.6.0->en-core-web-md==3.6.0) (4.5.0)\n",
            "Requirement already satisfied: charset-normalizer<4,>=2 in /usr/local/lib/python3.10/dist-packages (from requests<3.0.0,>=2.13.0->spacy<3.7.0,>=3.6.0->en-core-web-md==3.6.0) (3.3.2)\n",
            "Requirement already satisfied: idna<4,>=2.5 in /usr/local/lib/python3.10/dist-packages (from requests<3.0.0,>=2.13.0->spacy<3.7.0,>=3.6.0->en-core-web-md==3.6.0) (3.6)\n",
            "Requirement already satisfied: urllib3<3,>=1.21.1 in /usr/local/lib/python3.10/dist-packages (from requests<3.0.0,>=2.13.0->spacy<3.7.0,>=3.6.0->en-core-web-md==3.6.0) (2.0.7)\n",
            "Requirement already satisfied: certifi>=2017.4.17 in /usr/local/lib/python3.10/dist-packages (from requests<3.0.0,>=2.13.0->spacy<3.7.0,>=3.6.0->en-core-web-md==3.6.0) (2023.11.17)\n",
            "Requirement already satisfied: blis<0.8.0,>=0.7.8 in /usr/local/lib/python3.10/dist-packages (from thinc<8.2.0,>=8.1.8->spacy<3.7.0,>=3.6.0->en-core-web-md==3.6.0) (0.7.11)\n",
            "Requirement already satisfied: confection<1.0.0,>=0.0.1 in /usr/local/lib/python3.10/dist-packages (from thinc<8.2.0,>=8.1.8->spacy<3.7.0,>=3.6.0->en-core-web-md==3.6.0) (0.1.4)\n",
            "Requirement already satisfied: click<9.0.0,>=7.1.1 in /usr/local/lib/python3.10/dist-packages (from typer<0.10.0,>=0.3.0->spacy<3.7.0,>=3.6.0->en-core-web-md==3.6.0) (8.1.7)\n",
            "Requirement already satisfied: MarkupSafe>=2.0 in /usr/local/lib/python3.10/dist-packages (from jinja2->spacy<3.7.0,>=3.6.0->en-core-web-md==3.6.0) (2.1.4)\n",
            "Installing collected packages: en-core-web-md\n",
            "Successfully installed en-core-web-md-3.6.0\n",
            "\u001b[38;5;2m✔ Download and installation successful\u001b[0m\n",
            "You can now load the package via spacy.load('en_core_web_md')\n"
          ]
        }
      ],
      "source": [
        " !python -m spacy download en_core_web_md"
      ]
    },
    {
      "cell_type": "markdown",
      "source": [
        "# Load Dataset"
      ],
      "metadata": {
        "id": "-NGrKe8JT0AJ"
      }
    },
    {
      "cell_type": "markdown",
      "source": [
        "Download Dataset: https://www.kaggle.com/datasets/columbine/imdb-dataset-sentiment-analysis-in-csv-format"
      ],
      "metadata": {
        "id": "KhRo5HNf9eov"
      }
    },
    {
      "cell_type": "code",
      "source": [
        "import pandas as pd\n",
        "import matplotlib.pyplot as plt\n",
        "%matplotlib inline\n",
        "# Create the movie comment DataFrame and display the statistics\n",
        "mcommentDF=pd.read_csv('/content/drive/MyDrive/StudyWork/Dataset/IMDB_Sentiment_5k.csv')\n",
        "mcommentDF = mcommentDF[['text','label']].dropna()\n",
        "axplot=mcommentDF.label.value_counts().plot(kind='bar', colormap='Paired')\n",
        "plt.show()"
      ],
      "metadata": {
        "colab": {
          "base_uri": "https://localhost:8080/",
          "height": 425
        },
        "id": "nKLkpmVJSP5p",
        "outputId": "85573243-f118-454b-cf51-b296846ff503"
      },
      "execution_count": null,
      "outputs": [
        {
          "output_type": "display_data",
          "data": {
            "text/plain": [
              "<Figure size 640x480 with 1 Axes>"
            ],
            "image/png": "[encoded data removed]"
          },
          "metadata": {}
        }
      ]
    },
    {
      "cell_type": "markdown",
      "source": [
        "# Tokenize dataset"
      ],
      "metadata": {
        "id": "wysPKyqTT1xp"
      }
    },
    {
      "cell_type": "code",
      "source": [
        "# Import spaCy\n",
        "import spacy\n",
        "# Load the spaCy NLP model\n",
        "nlp = spacy.load(\"en_core_web_md\")"
      ],
      "metadata": {
        "id": "XM-oeERET4Ds"
      },
      "execution_count": null,
      "outputs": []
    },
    {
      "cell_type": "markdown",
      "source": [
        "# Save Features"
      ],
      "metadata": {
        "id": "dBfQrTiQ766-"
      }
    },
    {
      "cell_type": "code",
      "source": [
        "# Create movie comment sample and categories objects\n",
        "movie_comment_exp = []\n",
        "categories = []\n",
        "# Perform Tokenization\n",
        "for idx, rw in mcommentDF.iterrows():\n",
        "  comments = rw[\"text\"]\n",
        "  rating = rw[\"label\"]\n",
        "  categories.append(rating)\n",
        "  mtoks = [token.text for token in nlp(comments)]\n",
        "  movie_comment_exp.append(mtoks)"
      ],
      "metadata": {
        "id": "vGfa7eHtT6Vn"
      },
      "execution_count": null,
      "outputs": []
    },
    {
      "cell_type": "code",
      "source": [
        "features = dict(\n",
        "    features = movie_comment_exp,\n",
        "    categories=categories,\n",
        ")"
      ],
      "metadata": {
        "id": "4YYWhrNt8lQu"
      },
      "execution_count": null,
      "outputs": []
    },
    {
      "cell_type": "code",
      "source": [
        "import pickle\n",
        "\n",
        "# Lưu danh sách vào tệp\n",
        "with open('feature_5k.pkl', 'wb') as file:\n",
        "    pickle.dump(features, file)"
      ],
      "metadata": {
        "id": "kxgG3b6ff1V4"
      },
      "execution_count": null,
      "outputs": []
    },
    {
      "cell_type": "code",
      "source": [
        "!cp /content/feature_5k.pkl -d /content/drive/MyDrive/StudyWork/Dataset"
      ],
      "metadata": {
        "id": "_cAPkJaUgZnc"
      },
      "execution_count": null,
      "outputs": []
    },
    {
      "cell_type": "markdown",
      "source": [
        "# Load Features"
      ],
      "metadata": {
        "id": "ik6V39eS8o_a"
      }
    },
    {
      "cell_type": "code",
      "source": [
        "import pickle\n",
        "\n",
        "# Đọc danh sách từ tệp\n",
        "with open('/content/drive/MyDrive/StudyWork/Dataset/feature_5k.pkl', 'rb') as file:\n",
        "    loaded_list = pickle.load(file)"
      ],
      "metadata": {
        "id": "1KZH9NJOccPV"
      },
      "execution_count": null,
      "outputs": []
    },
    {
      "cell_type": "code",
      "source": [
        "# loaded_list\n",
        "\n",
        "movie_comment_exp = loaded_list['features']\n",
        "categories = loaded_list['categories']"
      ],
      "metadata": {
        "id": "3WIIlVOlcqiT"
      },
      "execution_count": null,
      "outputs": []
    },
    {
      "cell_type": "code",
      "source": [
        "len(movie_comment_exp)"
      ],
      "metadata": {
        "colab": {
          "base_uri": "https://localhost:8080/"
        },
        "id": "RLCX0ZUCdEmH",
        "outputId": "df44eeee-0841-4945-d981-29aba16d003a"
      },
      "execution_count": null,
      "outputs": [
        {
          "output_type": "execute_result",
          "data": {
            "text/plain": [
              "5000"
            ]
          },
          "metadata": {},
          "execution_count": 6
        }
      ]
    },
    {
      "cell_type": "markdown",
      "source": [
        "# Preprocess Data"
      ],
      "metadata": {
        "id": "GQk_-D4u-ON5"
      }
    },
    {
      "cell_type": "code",
      "source": [
        "# Import Tokenizer, pad_sequences\n",
        "from tensorflow.keras.preprocessing.text import Tokenizer\n",
        "from tensorflow.keras.preprocessing.sequence import pad_sequences\n",
        "import numpy as np"
      ],
      "metadata": {
        "id": "FJKD8LtcUFxT"
      },
      "execution_count": null,
      "outputs": []
    },
    {
      "cell_type": "code",
      "source": [
        "# Create ktoken and perform tokenization\n",
        "ktoken = Tokenizer(lower=True)\n",
        "ktoken.fit_on_texts(movie_comment_exp)\n",
        "# Create utterance sequences object\n",
        "seq_utterance = ktoken.texts_to_sequences(movie_comment_exp)"
      ],
      "metadata": {
        "id": "YyV_Gs_VUGNn"
      },
      "execution_count": null,
      "outputs": []
    },
    {
      "cell_type": "code",
      "source": [
        "# Set the max length to 50\n",
        "MLEN = 50\n",
        "# Create pad utterance sequence object\n",
        "ps_utterance = pad_sequences(seq_utterance, MLEN, padding=\"post\")"
      ],
      "metadata": {
        "id": "betb4KhGUJmT"
      },
      "execution_count": null,
      "outputs": []
    },
    {
      "cell_type": "code",
      "source": [
        "# Convert the ps_utterance into numpy arrays\n",
        "ps_utterance = np.array(ps_utterance)\n",
        "# Create the category list (catlist)\n",
        "catlist = np.array(categories)"
      ],
      "metadata": {
        "id": "6AbILG3QUbAB"
      },
      "execution_count": null,
      "outputs": []
    },
    {
      "cell_type": "code",
      "source": [
        "catlist = catlist.reshape(catlist.shape[0] , 1)"
      ],
      "metadata": {
        "id": "WRMS8yRrUeEM"
      },
      "execution_count": null,
      "outputs": []
    },
    {
      "cell_type": "code",
      "source": [
        "from sklearn.model_selection import train_test_split\n",
        "from sklearn.metrics import accuracy_score\n",
        "\n",
        "# Assume ps_utterance and catlist are processed data\n",
        "# Split the data into training and testing sets\n",
        "X_train, X_test, y_train, y_test = train_test_split(ps_utterance, catlist, test_size=0.2, random_state=42)"
      ],
      "metadata": {
        "id": "UR9yPFOWS6_L"
      },
      "execution_count": null,
      "outputs": []
    },
    {
      "cell_type": "markdown",
      "source": [
        "# LSTM Model"
      ],
      "metadata": {
        "id": "VK6CDXdJUlKe"
      }
    },
    {
      "cell_type": "code",
      "source": [
        "# Import the LSTM model and the optimizers\n",
        "from tensorflow.keras.models import Model\n",
        "from tensorflow.keras.layers import Input, LSTM, Dense, Embedding, Flatten\n",
        "from tensorflow.keras import optimizers"
      ],
      "metadata": {
        "id": "aguZyhPFUiEN"
      },
      "execution_count": null,
      "outputs": []
    },
    {
      "cell_type": "code",
      "source": [
        "utterance_input = Input(shape=(None,))"
      ],
      "metadata": {
        "id": "i-RKwxgWUnen"
      },
      "execution_count": null,
      "outputs": []
    },
    {
      "cell_type": "code",
      "source": [
        "# Create the Embedding_Layer\n",
        "embedding = Embedding(input_dim = len(ktoken.word_index)+1, output_dim = 100)(utterance_input)"
      ],
      "metadata": {
        "id": "dHyEqdblUpV5"
      },
      "execution_count": null,
      "outputs": []
    },
    {
      "cell_type": "code",
      "source": [
        "# Create the LSTM_Layer\n",
        "LSTM_layer = LSTM(units=256)(embedding)"
      ],
      "metadata": {
        "id": "5NZHVBTmUwe5"
      },
      "execution_count": null,
      "outputs": []
    },
    {
      "cell_type": "code",
      "source": [
        "# Create the Output Layer\n",
        "outlayer = Dense(1, activation='sigmoid')(LSTM_layer)"
      ],
      "metadata": {
        "id": "p8yOQZCdUxEz"
      },
      "execution_count": null,
      "outputs": []
    },
    {
      "cell_type": "code",
      "source": [
        "# Create the IMDB User Review LSTM Model (imdb_mdl)\n",
        "imdb_mdl = Model(inputs=[utterance_input],outputs=[outlayer])"
      ],
      "metadata": {
        "id": "lMg43PwWUzb6"
      },
      "execution_count": null,
      "outputs": []
    },
    {
      "cell_type": "code",
      "source": [
        "imdb_mdl.summary()"
      ],
      "metadata": {
        "id": "6Kc52vAcU6Au",
        "colab": {
          "base_uri": "https://localhost:8080/"
        },
        "outputId": "bca05281-34e2-4441-9116-f16ef617daf7"
      },
      "execution_count": null,
      "outputs": [
        {
          "output_type": "stream",
          "name": "stdout",
          "text": [
            "Model: \"model_5\"\n",
            "_________________________________________________________________\n",
            " Layer (type)                Output Shape              Param #   \n",
            "=================================================================\n",
            " input_4 (InputLayer)        [(None, None)]            0         \n",
            "                                                                 \n",
            " embedding_3 (Embedding)     (None, None, 100)         4651300   \n",
            "                                                                 \n",
            " lstm_5 (LSTM)               (None, 256)               365568    \n",
            "                                                                 \n",
            " dense_7 (Dense)             (None, 1)                 257       \n",
            "                                                                 \n",
            "=================================================================\n",
            "Total params: 5017125 (19.14 MB)\n",
            "Trainable params: 5017125 (19.14 MB)\n",
            "Non-trainable params: 0 (0.00 Byte)\n",
            "_________________________________________________________________\n"
          ]
        }
      ]
    },
    {
      "cell_type": "code",
      "source": [
        "imdb_mdl.compile(optimizer=\"adam\", loss=\"binary_crossentropy\",\n",
        "metrics=[\"accuracy\"])"
      ],
      "metadata": {
        "id": "KgH2PuZ9U1ee"
      },
      "execution_count": null,
      "outputs": []
    },
    {
      "cell_type": "code",
      "source": [
        "# Model fitting by using 5 epochs\n",
        "history = imdb_mdl.fit(x=X_train,\n",
        "y=y_train,\n",
        "batch_size=64,\n",
        "epochs=30,\n",
        "validation_split=0.2)"
      ],
      "metadata": {
        "id": "V7G5o7OOU6bQ",
        "colab": {
          "base_uri": "https://localhost:8080/"
        },
        "outputId": "bed0f04a-e515-4833-ec85-b712906353f6"
      },
      "execution_count": null,
      "outputs": [
        {
          "output_type": "stream",
          "name": "stdout",
          "text": [
            "Epoch 1/30\n",
            "50/50 [==============================] - 7s 108ms/step - loss: 0.6864 - accuracy: 0.5644 - val_loss: 0.6678 - val_accuracy: 0.6250\n",
            "Epoch 2/30\n",
            "50/50 [==============================] - 5s 103ms/step - loss: 0.5057 - accuracy: 0.7713 - val_loss: 0.5168 - val_accuracy: 0.7450\n",
            "Epoch 3/30\n",
            "50/50 [==============================] - 2s 45ms/step - loss: 0.1872 - accuracy: 0.9347 - val_loss: 0.5479 - val_accuracy: 0.7588\n",
            "Epoch 4/30\n",
            "50/50 [==============================] - 1s 28ms/step - loss: 0.0515 - accuracy: 0.9884 - val_loss: 0.8221 - val_accuracy: 0.7450\n",
            "Epoch 5/30\n",
            "50/50 [==============================] - 1s 26ms/step - loss: 0.0131 - accuracy: 0.9966 - val_loss: 1.2569 - val_accuracy: 0.7200\n",
            "Epoch 6/30\n",
            "50/50 [==============================] - 1s 21ms/step - loss: 0.0038 - accuracy: 0.9994 - val_loss: 1.1540 - val_accuracy: 0.7325\n",
            "Epoch 7/30\n",
            "50/50 [==============================] - 1s 12ms/step - loss: 6.8985e-04 - accuracy: 1.0000 - val_loss: 1.3221 - val_accuracy: 0.7362\n",
            "Epoch 8/30\n",
            "50/50 [==============================] - 1s 20ms/step - loss: 2.2414e-04 - accuracy: 1.0000 - val_loss: 1.6709 - val_accuracy: 0.7275\n",
            "Epoch 9/30\n",
            "50/50 [==============================] - 1s 17ms/step - loss: 0.0013 - accuracy: 1.0000 - val_loss: 1.2621 - val_accuracy: 0.7350\n",
            "Epoch 10/30\n",
            "50/50 [==============================] - 1s 20ms/step - loss: 0.0400 - accuracy: 0.9897 - val_loss: 1.2256 - val_accuracy: 0.7312\n",
            "Epoch 11/30\n",
            "50/50 [==============================] - 1s 14ms/step - loss: 0.0216 - accuracy: 0.9947 - val_loss: 1.4773 - val_accuracy: 0.7262\n",
            "Epoch 12/30\n",
            "50/50 [==============================] - 1s 19ms/step - loss: 0.0092 - accuracy: 0.9981 - val_loss: 0.8751 - val_accuracy: 0.7125\n",
            "Epoch 13/30\n",
            "50/50 [==============================] - 0s 8ms/step - loss: 0.0055 - accuracy: 0.9987 - val_loss: 1.4019 - val_accuracy: 0.7250\n",
            "Epoch 14/30\n",
            "50/50 [==============================] - 1s 18ms/step - loss: 0.0070 - accuracy: 0.9981 - val_loss: 0.8915 - val_accuracy: 0.7437\n",
            "Epoch 15/30\n",
            "50/50 [==============================] - 1s 12ms/step - loss: 0.0035 - accuracy: 0.9994 - val_loss: 1.5076 - val_accuracy: 0.7212\n",
            "Epoch 16/30\n",
            "50/50 [==============================] - 0s 8ms/step - loss: 8.9065e-04 - accuracy: 1.0000 - val_loss: 1.7207 - val_accuracy: 0.7188\n",
            "Epoch 17/30\n",
            "50/50 [==============================] - 1s 10ms/step - loss: 0.0010 - accuracy: 1.0000 - val_loss: 1.8245 - val_accuracy: 0.7212\n",
            "Epoch 18/30\n",
            "50/50 [==============================] - 1s 10ms/step - loss: 6.6077e-05 - accuracy: 1.0000 - val_loss: 1.8807 - val_accuracy: 0.7225\n",
            "Epoch 19/30\n",
            "50/50 [==============================] - 1s 13ms/step - loss: 3.8348e-05 - accuracy: 1.0000 - val_loss: 1.9707 - val_accuracy: 0.7237\n",
            "Epoch 20/30\n",
            "50/50 [==============================] - 1s 10ms/step - loss: 3.0765e-05 - accuracy: 1.0000 - val_loss: 2.0275 - val_accuracy: 0.7250\n",
            "Epoch 21/30\n",
            "50/50 [==============================] - 1s 10ms/step - loss: 2.6283e-05 - accuracy: 1.0000 - val_loss: 2.0597 - val_accuracy: 0.7225\n",
            "Epoch 22/30\n",
            "50/50 [==============================] - 1s 12ms/step - loss: 2.2950e-05 - accuracy: 1.0000 - val_loss: 2.0889 - val_accuracy: 0.7200\n",
            "Epoch 23/30\n",
            "50/50 [==============================] - 1s 11ms/step - loss: 2.0392e-05 - accuracy: 1.0000 - val_loss: 2.1257 - val_accuracy: 0.7200\n",
            "Epoch 24/30\n",
            "50/50 [==============================] - 1s 14ms/step - loss: 1.8230e-05 - accuracy: 1.0000 - val_loss: 2.1473 - val_accuracy: 0.7200\n",
            "Epoch 25/30\n",
            "50/50 [==============================] - 1s 14ms/step - loss: 1.6530e-05 - accuracy: 1.0000 - val_loss: 2.1713 - val_accuracy: 0.7188\n",
            "Epoch 26/30\n",
            "50/50 [==============================] - 1s 11ms/step - loss: 1.5008e-05 - accuracy: 1.0000 - val_loss: 2.1930 - val_accuracy: 0.7188\n",
            "Epoch 27/30\n",
            "50/50 [==============================] - 1s 12ms/step - loss: 1.3747e-05 - accuracy: 1.0000 - val_loss: 2.2199 - val_accuracy: 0.7175\n",
            "Epoch 28/30\n",
            "50/50 [==============================] - 0s 8ms/step - loss: 1.2640e-05 - accuracy: 1.0000 - val_loss: 2.2326 - val_accuracy: 0.7163\n",
            "Epoch 29/30\n",
            "50/50 [==============================] - 0s 10ms/step - loss: 1.1658e-05 - accuracy: 1.0000 - val_loss: 2.2570 - val_accuracy: 0.7163\n",
            "Epoch 30/30\n",
            "50/50 [==============================] - 1s 14ms/step - loss: 1.0759e-05 - accuracy: 1.0000 - val_loss: 2.2718 - val_accuracy: 0.7163\n"
          ]
        }
      ]
    },
    {
      "cell_type": "code",
      "source": [
        "acc = [0.] + history.history['accuracy']\n",
        "val_acc = [0.] + history.history['val_accuracy']\n",
        "\n",
        "loss = history.history['loss']\n",
        "val_loss = history.history['val_loss']\n",
        "\n",
        "plt.figure(figsize=(8, 8))\n",
        "plt.subplot(2, 1, 1)\n",
        "plt.plot(acc, label='Training Accuracy')\n",
        "plt.plot(val_acc, label='Validation Accuracy')\n",
        "plt.legend(loc='lower right')\n",
        "plt.ylabel('Accuracy')\n",
        "plt.ylim([min(plt.ylim()),1])\n",
        "plt.title('Training and Validation Accuracy')\n",
        "\n",
        "plt.subplot(2, 1, 2)\n",
        "plt.plot(loss, label='Training Loss')\n",
        "plt.plot(val_loss, label='Validation Loss')\n",
        "plt.legend(loc='upper right')\n",
        "plt.ylabel('Cross Entropy')\n",
        "# plt.ylim([0,1.0])\n",
        "plt.title('Training and Validation Loss')\n",
        "plt.xlabel('epoch')\n",
        "plt.show()"
      ],
      "metadata": {
        "colab": {
          "base_uri": "https://localhost:8080/",
          "height": 718
        },
        "id": "oPZ1715sLadb",
        "outputId": "f9e0f9bc-b1ef-439a-ddb0-2198db6fdb7e"
      },
      "execution_count": null,
      "outputs": [
        {
          "output_type": "display_data",
          "data": {
            "text/plain": [
              "<Figure size 800x800 with 2 Axes>"
            ],
            "image/png": "[encoded data removed]"
          },
          "metadata": {}
        }
      ]
    },
    {
      "cell_type": "markdown",
      "source": [
        "# Evaluate LSTM"
      ],
      "metadata": {
        "id": "K9dTt-U8Sxf6"
      }
    },
    {
      "cell_type": "code",
      "source": [
        "from sklearn.metrics import confusion_matrix, classification_report\n",
        "import seaborn as sns\n",
        "\n",
        "y_pred = imdb_mdl.predict(X_test)\n",
        "y_pred = np.round(y_pred)\n",
        "\n",
        "cm = confusion_matrix(y_test, y_pred)\n",
        "\n",
        "print(\"Confusion Matrix:\")\n",
        "print(cm)\n",
        "\n",
        "print(\"\\nClassification Report:\")\n",
        "print(classification_report(y_test, y_pred))"
      ],
      "metadata": {
        "colab": {
          "base_uri": "https://localhost:8080/"
        },
        "id": "0hs7MeE0Szpj",
        "outputId": "6fddbf6f-9684-43fb-fc8e-52ee69770067"
      },
      "execution_count": null,
      "outputs": [
        {
          "output_type": "stream",
          "name": "stdout",
          "text": [
            "32/32 [==============================] - 1s 3ms/step\n",
            "Confusion Matrix:\n",
            "[[365 146]\n",
            " [143 346]]\n",
            "\n",
            "Classification Report:\n",
            "              precision    recall  f1-score   support\n",
            "\n",
            "           0       0.72      0.71      0.72       511\n",
            "           1       0.70      0.71      0.71       489\n",
            "\n",
            "    accuracy                           0.71      1000\n",
            "   macro avg       0.71      0.71      0.71      1000\n",
            "weighted avg       0.71      0.71      0.71      1000\n",
            "\n"
          ]
        }
      ]
    },
    {
      "cell_type": "code",
      "source": [
        "plt.figure(figsize=(8, 6))\n",
        "sns.heatmap(cm, annot=True, fmt=\"d\", cmap=\"Blues\", xticklabels=['Negative', 'Positive'], yticklabels=['Negative', 'Positive'])\n",
        "plt.xlabel(\"Predicted\")\n",
        "plt.ylabel(\"Actual\")\n",
        "plt.title(\"Confusion Matrix\")\n",
        "plt.show()"
      ],
      "metadata": {
        "colab": {
          "base_uri": "https://localhost:8080/",
          "height": 564
        },
        "id": "wevtFrnKULV4",
        "outputId": "5ed246bb-215a-4b98-eaff-0cf81cad5064"
      },
      "execution_count": null,
      "outputs": [
        {
          "output_type": "display_data",
          "data": {
            "text/plain": [
              "<Figure size 800x600 with 2 Axes>"
            ],
            "image/png": "[encoded data removed]"
          },
          "metadata": {}
        }
      ]
    },
    {
      "cell_type": "code",
      "source": [
        "imdb_mdl.summary()"
      ],
      "metadata": {
        "colab": {
          "base_uri": "https://localhost:8080/"
        },
        "id": "I7RGf9gSUaP6",
        "outputId": "852447f3-04b3-4549-9c3e-9ead1bde7127"
      },
      "execution_count": null,
      "outputs": [
        {
          "output_type": "stream",
          "name": "stdout",
          "text": [
            "Model: \"model_5\"\n",
            "_________________________________________________________________\n",
            " Layer (type)                Output Shape              Param #   \n",
            "=================================================================\n",
            " input_4 (InputLayer)        [(None, None)]            0         \n",
            "                                                                 \n",
            " embedding_3 (Embedding)     (None, None, 100)         4651300   \n",
            "                                                                 \n",
            " lstm_5 (LSTM)               (None, 256)               365568    \n",
            "                                                                 \n",
            " dense_7 (Dense)             (None, 1)                 257       \n",
            "                                                                 \n",
            "=================================================================\n",
            "Total params: 5017125 (19.14 MB)\n",
            "Trainable params: 5017125 (19.14 MB)\n",
            "Non-trainable params: 0 (0.00 Byte)\n",
            "_________________________________________________________________\n"
          ]
        }
      ]
    },
    {
      "cell_type": "code",
      "source": [
        "len(X_test)"
      ],
      "metadata": {
        "colab": {
          "base_uri": "https://localhost:8080/"
        },
        "id": "Qa4ASORSUcc5",
        "outputId": "ae3439d0-b40f-43a8-b4a6-d11c9f8183eb"
      },
      "execution_count": null,
      "outputs": [
        {
          "output_type": "execute_result",
          "data": {
            "text/plain": [
              "1000"
            ]
          },
          "metadata": {},
          "execution_count": 30
        }
      ]
    },
    {
      "cell_type": "markdown",
      "source": [
        "# Dense"
      ],
      "metadata": {
        "id": "rF9S2IJriWvT"
      }
    },
    {
      "cell_type": "code",
      "source": [
        "utterance_input = Input(shape=(None,))\n",
        "embedding = Embedding(input_dim=len(ktoken.word_index) + 1, output_dim=100)(utterance_input)\n",
        "dense_layer1 = Dense(128, activation='relu')(embedding)\n",
        "dense_layer2 = Dense(64, activation='relu')(dense_layer1)\n",
        "outlayer = Dense(1, activation='sigmoid')(dense_layer2)\n",
        "\n",
        "dense_model = Model(inputs=[utterance_input], outputs=[outlayer])"
      ],
      "metadata": {
        "id": "IlLdO3ScU9JZ"
      },
      "execution_count": null,
      "outputs": []
    },
    {
      "cell_type": "code",
      "source": [
        "dense_model.summary()"
      ],
      "metadata": {
        "colab": {
          "base_uri": "https://localhost:8080/"
        },
        "id": "zBcmqgmXieID",
        "outputId": "997c3b4f-24bd-4902-8f5e-a7b58da41d3e"
      },
      "execution_count": null,
      "outputs": [
        {
          "output_type": "stream",
          "name": "stdout",
          "text": [
            "Model: \"model\"\n",
            "_________________________________________________________________\n",
            " Layer (type)                Output Shape              Param #   \n",
            "=================================================================\n",
            " input_1 (InputLayer)        [(None, None)]            0         \n",
            "                                                                 \n",
            " embedding (Embedding)       (None, None, 100)         4651300   \n",
            "                                                                 \n",
            " dense (Dense)               (None, None, 128)         12928     \n",
            "                                                                 \n",
            " dense_1 (Dense)             (None, None, 64)          8256      \n",
            "                                                                 \n",
            " dense_2 (Dense)             (None, None, 1)           65        \n",
            "                                                                 \n",
            "=================================================================\n",
            "Total params: 4672549 (17.82 MB)\n",
            "Trainable params: 4672549 (17.82 MB)\n",
            "Non-trainable params: 0 (0.00 Byte)\n",
            "_________________________________________________________________\n"
          ]
        }
      ]
    },
    {
      "cell_type": "code",
      "source": [
        "dense_model.compile(optimizer=\"adam\", loss=\"binary_crossentropy\", metrics=[\"accuracy\"])"
      ],
      "metadata": {
        "id": "x8GC0L3Cz8yH"
      },
      "execution_count": null,
      "outputs": []
    },
    {
      "cell_type": "code",
      "source": [
        "# Model fitting by using 5 epochs\n",
        "dense_model.fit(x=ps_utterance,\n",
        "y=catlist,\n",
        "batch_size=64,\n",
        "epochs=5,\n",
        "validation_split=0.3)"
      ],
      "metadata": {
        "colab": {
          "base_uri": "https://localhost:8080/"
        },
        "id": "aF9DdV1Lz__9",
        "outputId": "aa3134f3-5f1a-4f3a-9267-37aad0b4974b"
      },
      "execution_count": null,
      "outputs": [
        {
          "output_type": "stream",
          "name": "stdout",
          "text": [
            "Epoch 1/5\n",
            "55/55 [==============================] - 8s 114ms/step - loss: 0.6918 - accuracy: 0.5207 - val_loss: 0.6891 - val_accuracy: 0.5346\n",
            "Epoch 2/5\n",
            "55/55 [==============================] - 4s 80ms/step - loss: 0.6785 - accuracy: 0.5725 - val_loss: 0.6843 - val_accuracy: 0.5443\n",
            "Epoch 3/5\n",
            "55/55 [==============================] - 4s 79ms/step - loss: 0.6582 - accuracy: 0.5866 - val_loss: 0.6941 - val_accuracy: 0.5398\n",
            "Epoch 4/5\n",
            "55/55 [==============================] - 5s 97ms/step - loss: 0.6440 - accuracy: 0.5875 - val_loss: 0.7026 - val_accuracy: 0.5402\n",
            "Epoch 5/5\n",
            "55/55 [==============================] - 4s 79ms/step - loss: 0.6352 - accuracy: 0.5897 - val_loss: 0.7105 - val_accuracy: 0.5452\n"
          ]
        },
        {
          "output_type": "execute_result",
          "data": {
            "text/plain": [
              "<keras.src.callbacks.History at 0x788c90dca0b0>"
            ]
          },
          "metadata": {},
          "execution_count": 53
        }
      ]
    },
    {
      "cell_type": "markdown",
      "source": [
        "# CNN + LSTM + DENSE"
      ],
      "metadata": {
        "id": "fTAo94IkDSlA"
      }
    },
    {
      "cell_type": "code",
      "source": [
        "from keras.layers import Input, Embedding, Conv1D, MaxPooling1D, LSTM, Dense, BatchNormalization, Dropout, Activation\n",
        "from keras.models import Model\n",
        "\n",
        "# Define input shape\n",
        "utterance_input = Input(shape=(None,))\n",
        "\n",
        "# Embedding layer\n",
        "embedding = Embedding(input_dim=len(ktoken.word_index) + 1, output_dim=100)(utterance_input)\n",
        "\n",
        "# Convolutional layers\n",
        "conv1d_1 = Conv1D(filters=64, kernel_size=5, strides=1, padding=\"causal\", activation='relu')(embedding)\n",
        "maxpool_1 = MaxPooling1D(pool_size=2, strides=1, padding=\"valid\")(conv1d_1)\n",
        "conv1d_2 = Conv1D(filters=32, kernel_size=3, strides=1, padding='causal', activation='relu')(maxpool_1)\n",
        "maxpool_2 = MaxPooling1D(pool_size=2, strides=1, padding=\"valid\")(conv1d_2)\n",
        "\n",
        "# LSTM layer\n",
        "lstm_1 = LSTM(128, return_sequences=True)(maxpool_2)\n",
        "lstm_2 = LSTM(128)(lstm_1)\n",
        "\n",
        "# Dense layers\n",
        "dense_layer1 = Dense(64)(lstm_2)\n",
        "bn_dense_1 = BatchNormalization()(dense_layer1)\n",
        "dropout_1 = Dropout(0.2)(bn_dense_1)\n",
        "relu_1 = Activation('relu')(dropout_1)\n",
        "\n",
        "dense_layer2 = Dense(16)(relu_1)\n",
        "bn_dense_2 = BatchNormalization()(dense_layer2)\n",
        "dropout_2 = Dropout(0.1)(bn_dense_2)\n",
        "relu_2 = Activation('relu')(dropout_2)\n",
        "\n",
        "# Output layer\n",
        "outlayer = Dense(1, activation='sigmoid')(relu_2)\n",
        "\n",
        "# Define the model\n",
        "combined_model = Model(inputs=utterance_input, outputs=outlayer)"
      ],
      "metadata": {
        "id": "OZQH2Eh0DSZs"
      },
      "execution_count": null,
      "outputs": []
    },
    {
      "cell_type": "code",
      "source": [
        "combined_model.compile(optimizer=\"adam\", loss=\"binary_crossentropy\", metrics=[\"accuracy\"])\n",
        "\n",
        "# Model fitting by using 5 epochs\n",
        "history = combined_model.fit(x=X_train,\n",
        "y=y_train,\n",
        "batch_size=64,\n",
        "epochs=30,\n",
        "validation_split=0.2)"
      ],
      "metadata": {
        "colab": {
          "base_uri": "https://localhost:8080/"
        },
        "id": "SbjwPJyw28w-",
        "outputId": "a0e15d91-04fd-4f64-fe97-68fe2c670039"
      },
      "execution_count": null,
      "outputs": [
        {
          "output_type": "stream",
          "name": "stdout",
          "text": [
            "Epoch 1/30\n",
            "50/50 [==============================] - 14s 156ms/step - loss: 0.7176 - accuracy: 0.5322 - val_loss: 0.6939 - val_accuracy: 0.4762\n",
            "Epoch 2/30\n",
            "50/50 [==============================] - 4s 77ms/step - loss: 0.4620 - accuracy: 0.7937 - val_loss: 0.6823 - val_accuracy: 0.5950\n",
            "Epoch 3/30\n",
            "50/50 [==============================] - 2s 43ms/step - loss: 0.1720 - accuracy: 0.9747 - val_loss: 0.9067 - val_accuracy: 0.4762\n",
            "Epoch 4/30\n",
            "50/50 [==============================] - 2s 36ms/step - loss: 0.0737 - accuracy: 0.9994 - val_loss: 0.7268 - val_accuracy: 0.5113\n",
            "Epoch 5/30\n",
            "50/50 [==============================] - 2s 32ms/step - loss: 0.0412 - accuracy: 1.0000 - val_loss: 0.5688 - val_accuracy: 0.7063\n",
            "Epoch 6/30\n",
            "50/50 [==============================] - 2s 37ms/step - loss: 0.0275 - accuracy: 1.0000 - val_loss: 0.7040 - val_accuracy: 0.6363\n",
            "Epoch 7/30\n",
            "50/50 [==============================] - 2s 32ms/step - loss: 0.0210 - accuracy: 1.0000 - val_loss: 0.6098 - val_accuracy: 0.6950\n",
            "Epoch 8/30\n",
            "50/50 [==============================] - 2s 35ms/step - loss: 0.0153 - accuracy: 1.0000 - val_loss: 0.6311 - val_accuracy: 0.7025\n",
            "Epoch 9/30\n",
            "50/50 [==============================] - 2s 32ms/step - loss: 0.0124 - accuracy: 1.0000 - val_loss: 0.6860 - val_accuracy: 0.7088\n",
            "Epoch 10/30\n",
            "50/50 [==============================] - 1s 19ms/step - loss: 0.0106 - accuracy: 1.0000 - val_loss: 0.8951 - val_accuracy: 0.6825\n",
            "Epoch 11/30\n",
            "50/50 [==============================] - 1s 15ms/step - loss: 0.0084 - accuracy: 1.0000 - val_loss: 0.8350 - val_accuracy: 0.7000\n",
            "Epoch 12/30\n",
            "50/50 [==============================] - 1s 18ms/step - loss: 0.0067 - accuracy: 1.0000 - val_loss: 0.9235 - val_accuracy: 0.7000\n",
            "Epoch 13/30\n",
            "50/50 [==============================] - 1s 18ms/step - loss: 0.0059 - accuracy: 1.0000 - val_loss: 0.9304 - val_accuracy: 0.7075\n",
            "Epoch 14/30\n",
            "50/50 [==============================] - 1s 14ms/step - loss: 0.0051 - accuracy: 1.0000 - val_loss: 0.9718 - val_accuracy: 0.7063\n",
            "Epoch 15/30\n",
            "50/50 [==============================] - 1s 18ms/step - loss: 0.0044 - accuracy: 1.0000 - val_loss: 1.0728 - val_accuracy: 0.6925\n",
            "Epoch 16/30\n",
            "50/50 [==============================] - 1s 16ms/step - loss: 0.0041 - accuracy: 1.0000 - val_loss: 1.1337 - val_accuracy: 0.6862\n",
            "Epoch 17/30\n",
            "50/50 [==============================] - 1s 14ms/step - loss: 0.0039 - accuracy: 1.0000 - val_loss: 2.0863 - val_accuracy: 0.5537\n",
            "Epoch 18/30\n",
            "50/50 [==============================] - 1s 23ms/step - loss: 0.0032 - accuracy: 1.0000 - val_loss: 1.2371 - val_accuracy: 0.6875\n",
            "Epoch 19/30\n",
            "50/50 [==============================] - 1s 27ms/step - loss: 0.0028 - accuracy: 1.0000 - val_loss: 1.1085 - val_accuracy: 0.6988\n",
            "Epoch 20/30\n",
            "50/50 [==============================] - 1s 18ms/step - loss: 0.0025 - accuracy: 1.0000 - val_loss: 1.1351 - val_accuracy: 0.7050\n",
            "Epoch 21/30\n",
            "50/50 [==============================] - 1s 17ms/step - loss: 0.0024 - accuracy: 1.0000 - val_loss: 1.1456 - val_accuracy: 0.6975\n",
            "Epoch 22/30\n",
            "50/50 [==============================] - 1s 13ms/step - loss: 0.0022 - accuracy: 1.0000 - val_loss: 1.1850 - val_accuracy: 0.7088\n",
            "Epoch 23/30\n",
            "50/50 [==============================] - 1s 17ms/step - loss: 0.0019 - accuracy: 1.0000 - val_loss: 1.1863 - val_accuracy: 0.7113\n",
            "Epoch 24/30\n",
            "50/50 [==============================] - 1s 22ms/step - loss: 0.0017 - accuracy: 1.0000 - val_loss: 1.2928 - val_accuracy: 0.6900\n",
            "Epoch 25/30\n",
            "50/50 [==============================] - 1s 17ms/step - loss: 0.0017 - accuracy: 1.0000 - val_loss: 1.2192 - val_accuracy: 0.7063\n",
            "Epoch 26/30\n",
            "50/50 [==============================] - 1s 17ms/step - loss: 0.0014 - accuracy: 1.0000 - val_loss: 1.3365 - val_accuracy: 0.6900\n",
            "Epoch 27/30\n",
            "50/50 [==============================] - 1s 14ms/step - loss: 0.0017 - accuracy: 1.0000 - val_loss: 2.5783 - val_accuracy: 0.5763\n",
            "Epoch 28/30\n",
            "50/50 [==============================] - 1s 16ms/step - loss: 0.0013 - accuracy: 1.0000 - val_loss: 1.2404 - val_accuracy: 0.7100\n",
            "Epoch 29/30\n",
            "50/50 [==============================] - 1s 14ms/step - loss: 0.0013 - accuracy: 1.0000 - val_loss: 1.3815 - val_accuracy: 0.6888\n",
            "Epoch 30/30\n",
            "50/50 [==============================] - 1s 15ms/step - loss: 0.0013 - accuracy: 1.0000 - val_loss: 1.4513 - val_accuracy: 0.6938\n"
          ]
        }
      ]
    },
    {
      "cell_type": "code",
      "source": [
        "acc = [0.] + history.history['accuracy']\n",
        "val_acc = [0.] + history.history['val_accuracy']\n",
        "\n",
        "loss = history.history['loss']\n",
        "val_loss = history.history['val_loss']\n",
        "\n",
        "plt.figure(figsize=(8, 8))\n",
        "plt.subplot(2, 1, 1)\n",
        "plt.plot(acc, label='Training Accuracy')\n",
        "plt.plot(val_acc, label='Validation Accuracy')\n",
        "plt.legend(loc='lower right')\n",
        "plt.ylabel('Accuracy')\n",
        "plt.ylim([min(plt.ylim()),1])\n",
        "plt.title('Training and Validation Accuracy')\n",
        "\n",
        "plt.subplot(2, 1, 2)\n",
        "plt.plot(loss, label='Training Loss')\n",
        "plt.plot(val_loss, label='Validation Loss')\n",
        "plt.legend(loc='upper right')\n",
        "plt.ylabel('Cross Entropy')\n",
        "# plt.ylim([0,1.0])\n",
        "plt.title('Training and Validation Loss')\n",
        "plt.xlabel('epoch')\n",
        "plt.show()"
      ],
      "metadata": {
        "colab": {
          "base_uri": "https://localhost:8080/",
          "height": 718
        },
        "id": "ts9ZaKp1LUrz",
        "outputId": "f17458a2-b785-4522-94ad-5e8bab7317a2"
      },
      "execution_count": null,
      "outputs": [
        {
          "output_type": "display_data",
          "data": {
            "text/plain": [
              "<Figure size 800x800 with 2 Axes>"
            ],
            "image/png": "[encoded data removed]"
          },
          "metadata": {}
        }
      ]
    },
    {
      "cell_type": "markdown",
      "source": [
        "# Evaluate Model"
      ],
      "metadata": {
        "id": "JRlNsGRnU3dX"
      }
    },
    {
      "cell_type": "code",
      "source": [
        "from sklearn.metrics import confusion_matrix, classification_report\n",
        "import seaborn as sns\n",
        "\n",
        "y_pred = combined_model.predict(X_test)\n",
        "y_pred = np.round(y_pred)\n",
        "\n",
        "cm = confusion_matrix(y_test, y_pred)\n",
        "\n",
        "print(\"Confusion Matrix:\")\n",
        "print(cm)\n",
        "\n",
        "print(\"\\nClassification Report:\")\n",
        "print(classification_report(y_test, y_pred))"
      ],
      "metadata": {
        "colab": {
          "base_uri": "https://localhost:8080/"
        },
        "outputId": "55a77fd5-fbba-41d6-8c8a-2571f0d250fc",
        "id": "9eUw8jBDU5cF"
      },
      "execution_count": null,
      "outputs": [
        {
          "output_type": "stream",
          "name": "stdout",
          "text": [
            "32/32 [==============================] - 0s 5ms/step\n",
            "Confusion Matrix:\n",
            "[[276 235]\n",
            " [ 64 425]]\n",
            "\n",
            "Classification Report:\n",
            "              precision    recall  f1-score   support\n",
            "\n",
            "           0       0.81      0.54      0.65       511\n",
            "           1       0.64      0.87      0.74       489\n",
            "\n",
            "    accuracy                           0.70      1000\n",
            "   macro avg       0.73      0.70      0.69      1000\n",
            "weighted avg       0.73      0.70      0.69      1000\n",
            "\n"
          ]
        }
      ]
    },
    {
      "cell_type": "code",
      "source": [
        "plt.figure(figsize=(8, 6))\n",
        "sns.heatmap(cm, annot=True, fmt=\"d\", cmap=\"Blues\", xticklabels=['Negative ', 'Positive'], yticklabels=['Negative ', 'Positive'])\n",
        "plt.xlabel(\"Predicted\")\n",
        "plt.ylabel(\"Actual\")\n",
        "plt.title(\"Confusion Matrix\")\n",
        "plt.show()"
      ],
      "metadata": {
        "colab": {
          "base_uri": "https://localhost:8080/",
          "height": 564
        },
        "outputId": "90cd6466-1866-4780-fa8d-a61a1f4bf5e2",
        "id": "ldKkxOUoU5cG"
      },
      "execution_count": null,
      "outputs": [
        {
          "output_type": "display_data",
          "data": {
            "text/plain": [
              "<Figure size 800x600 with 2 Axes>"
            ],
            "image/png": "[encoded data removed]"
          },
          "metadata": {}
        }
      ]
    },
    {
      "cell_type": "code",
      "source": [
        "combined_model.summary()"
      ],
      "metadata": {
        "colab": {
          "base_uri": "https://localhost:8080/"
        },
        "id": "dXV11r3NTfEK",
        "outputId": "7e57d914-983c-4541-d89b-3634f3dabac7"
      },
      "execution_count": null,
      "outputs": [
        {
          "output_type": "stream",
          "name": "stdout",
          "text": [
            "Model: \"model_6\"\n",
            "_________________________________________________________________\n",
            " Layer (type)                Output Shape              Param #   \n",
            "=================================================================\n",
            " input_5 (InputLayer)        [(None, None)]            0         \n",
            "                                                                 \n",
            " embedding_4 (Embedding)     (None, None, 100)         4651300   \n",
            "                                                                 \n",
            " conv1d_4 (Conv1D)           (None, None, 64)          32064     \n",
            "                                                                 \n",
            " max_pooling1d_4 (MaxPoolin  (None, None, 64)          0         \n",
            " g1D)                                                            \n",
            "                                                                 \n",
            " conv1d_5 (Conv1D)           (None, None, 32)          6176      \n",
            "                                                                 \n",
            " max_pooling1d_5 (MaxPoolin  (None, None, 32)          0         \n",
            " g1D)                                                            \n",
            "                                                                 \n",
            " lstm_6 (LSTM)               (None, None, 128)         82432     \n",
            "                                                                 \n",
            " lstm_7 (LSTM)               (None, 128)               131584    \n",
            "                                                                 \n",
            " dense_8 (Dense)             (None, 64)                8256      \n",
            "                                                                 \n",
            " batch_normalization_4 (Bat  (None, 64)                256       \n",
            " chNormalization)                                                \n",
            "                                                                 \n",
            " dropout_4 (Dropout)         (None, 64)                0         \n",
            "                                                                 \n",
            " activation_4 (Activation)   (None, 64)                0         \n",
            "                                                                 \n",
            " dense_9 (Dense)             (None, 16)                1040      \n",
            "                                                                 \n",
            " batch_normalization_5 (Bat  (None, 16)                64        \n",
            " chNormalization)                                                \n",
            "                                                                 \n",
            " dropout_5 (Dropout)         (None, 16)                0         \n",
            "                                                                 \n",
            " activation_5 (Activation)   (None, 16)                0         \n",
            "                                                                 \n",
            " dense_10 (Dense)            (None, 1)                 17        \n",
            "                                                                 \n",
            "=================================================================\n",
            "Total params: 4913189 (18.74 MB)\n",
            "Trainable params: 4913029 (18.74 MB)\n",
            "Non-trainable params: 160 (640.00 Byte)\n",
            "_________________________________________________________________\n"
          ]
        }
      ]
    },
    {
      "cell_type": "markdown",
      "source": [
        "# Logistic Regression"
      ],
      "metadata": {
        "id": "dqkuKGf62sZF"
      }
    },
    {
      "cell_type": "code",
      "source": [
        "from sklearn.model_selection import train_test_split\n",
        "from sklearn.linear_model import LogisticRegression\n",
        "from sklearn.metrics import accuracy_score\n",
        "\n",
        "# Assume ps_utterance and catlist are processed data\n",
        "# Split the data into training and testing sets\n",
        "X_train, X_test, y_train, y_test = train_test_split(ps_utterance, catlist, test_size=0.2, random_state=42)"
      ],
      "metadata": {
        "id": "LYUKUU-F5MQ3"
      },
      "execution_count": null,
      "outputs": []
    },
    {
      "cell_type": "code",
      "source": [
        "# Create a Logistic Regression model\n",
        "logreg_model = LogisticRegression()\n",
        "\n",
        "# Train the model on the training set\n",
        "logreg_model.fit(X_train, y_train)"
      ],
      "metadata": {
        "colab": {
          "base_uri": "https://localhost:8080/",
          "height": 129
        },
        "id": "DgAZ_JIE5RCe",
        "outputId": "16fd2d3a-ca68-4d65-c701-9c4af4a1a1c3"
      },
      "execution_count": null,
      "outputs": [
        {
          "output_type": "stream",
          "name": "stderr",
          "text": [
            "/usr/local/lib/python3.10/dist-packages/sklearn/utils/validation.py:1143: DataConversionWarning: A column-vector y was passed when a 1d array was expected. Please change the shape of y to (n_samples, ), for example using ravel().\n",
            "  y = column_or_1d(y, warn=True)\n"
          ]
        },
        {
          "output_type": "execute_result",
          "data": {
            "text/plain": [
              "LogisticRegression()"
            ],
            "text/html": [
              "<style>#sk-container-id-5 {color: black;background-color: white;}#sk-container-id-5 pre{padding: 0;}#sk-container-id-5 div.sk-toggleable {background-color: white;}#sk-container-id-5 label.sk-toggleable__label {cursor: pointer;display: block;width: 100%;margin-bottom: 0;padding: 0.3em;box-sizing: border-box;text-align: center;}#sk-container-id-5 label.sk-toggleable__label-arrow:before {content: \"▸\";float: left;margin-right: 0.25em;color: #696969;}#sk-container-id-5 label.sk-toggleable__label-arrow:hover:before {color: black;}#sk-container-id-5 div.sk-estimator:hover label.sk-toggleable__label-arrow:before {color: black;}#sk-container-id-5 div.sk-toggleable__content {max-height: 0;max-width: 0;overflow: hidden;text-align: left;background-color: #f0f8ff;}#sk-container-id-5 div.sk-toggleable__content pre {margin: 0.2em;color: black;border-radius: 0.25em;background-color: #f0f8ff;}#sk-container-id-5 input.sk-toggleable__control:checked~div.sk-toggleable__content {max-height: 200px;max-width: 100%;overflow: auto;}#sk-container-id-5 input.sk-toggleable__control:checked~label.sk-toggleable__label-arrow:before {content: \"▾\";}#sk-container-id-5 div.sk-estimator input.sk-toggleable__control:checked~label.sk-toggleable__label {background-color: #d4ebff;}#sk-container-id-5 div.sk-label input.sk-toggleable__control:checked~label.sk-toggleable__label {background-color: #d4ebff;}#sk-container-id-5 input.sk-hidden--visually {border: 0;clip: rect(1px 1px 1px 1px);clip: rect(1px, 1px, 1px, 1px);height: 1px;margin: -1px;overflow: hidden;padding: 0;position: absolute;width: 1px;}#sk-container-id-5 div.sk-estimator {font-family: monospace;background-color: #f0f8ff;border: 1px dotted black;border-radius: 0.25em;box-sizing: border-box;margin-bottom: 0.5em;}#sk-container-id-5 div.sk-estimator:hover {background-color: #d4ebff;}#sk-container-id-5 div.sk-parallel-item::after {content: \"\";width: 100%;border-bottom: 1px solid gray;flex-grow: 1;}#sk-container-id-5 div.sk-label:hover label.sk-toggleable__label {background-color: #d4ebff;}#sk-container-id-5 div.sk-serial::before {content: \"\";position: absolute;border-left: 1px solid gray;box-sizing: border-box;top: 0;bottom: 0;left: 50%;z-index: 0;}#sk-container-id-5 div.sk-serial {display: flex;flex-direction: column;align-items: center;background-color: white;padding-right: 0.2em;padding-left: 0.2em;position: relative;}#sk-container-id-5 div.sk-item {position: relative;z-index: 1;}#sk-container-id-5 div.sk-parallel {display: flex;align-items: stretch;justify-content: center;background-color: white;position: relative;}#sk-container-id-5 div.sk-item::before, #sk-container-id-5 div.sk-parallel-item::before {content: \"\";position: absolute;border-left: 1px solid gray;box-sizing: border-box;top: 0;bottom: 0;left: 50%;z-index: -1;}#sk-container-id-5 div.sk-parallel-item {display: flex;flex-direction: column;z-index: 1;position: relative;background-color: white;}#sk-container-id-5 div.sk-parallel-item:first-child::after {align-self: flex-end;width: 50%;}#sk-container-id-5 div.sk-parallel-item:last-child::after {align-self: flex-start;width: 50%;}#sk-container-id-5 div.sk-parallel-item:only-child::after {width: 0;}#sk-container-id-5 div.sk-dashed-wrapped {border: 1px dashed gray;margin: 0 0.4em 0.5em 0.4em;box-sizing: border-box;padding-bottom: 0.4em;background-color: white;}#sk-container-id-5 div.sk-label label {font-family: monospace;font-weight: bold;display: inline-block;line-height: 1.2em;}#sk-container-id-5 div.sk-label-container {text-align: center;}#sk-container-id-5 div.sk-container {/* jupyter's `normalize.less` sets `[hidden] { display: none; }` but bootstrap.min.css set `[hidden] { display: none !important; }` so we also need the `!important` here to be able to override the default hidden behavior on the sphinx rendered scikit-learn.org. See: https://github.com/scikit-learn/scikit-learn/issues/21755 */display: inline-block !important;position: relative;}#sk-container-id-5 div.sk-text-repr-fallback {display: none;}</style><div id=\"sk-container-id-5\" class=\"sk-top-container\"><div class=\"sk-text-repr-fallback\"><pre>LogisticRegression()</pre><b>In a Jupyter environment, please rerun this cell to show the HTML representation or trust the notebook. <br />On GitHub, the HTML representation is unable to render, please try loading this page with nbviewer.org.</b></div><div class=\"sk-container\" hidden><div class=\"sk-item\"><div class=\"sk-estimator sk-toggleable\"><input class=\"sk-toggleable__control sk-hidden--visually\" id=\"sk-estimator-id-5\" type=\"checkbox\" checked><label for=\"sk-estimator-id-5\" class=\"sk-toggleable__label sk-toggleable__label-arrow\">LogisticRegression</label><div class=\"sk-toggleable__content\"><pre>LogisticRegression()</pre></div></div></div></div></div>"
            ]
          },
          "metadata": {},
          "execution_count": 38
        }
      ]
    },
    {
      "cell_type": "code",
      "source": [
        "# Make predictions on the testing set\n",
        "y_pred = logreg_model.predict(X_test)\n",
        "\n",
        "# Evaluate the model\n",
        "accuracy = accuracy_score(y_test, y_pred)\n",
        "print(\"Accuracy:\", accuracy)"
      ],
      "metadata": {
        "colab": {
          "base_uri": "https://localhost:8080/"
        },
        "id": "4CYqo8Pq5Mpa",
        "outputId": "80e77c18-698a-4514-eeff-d468b4718aa3"
      },
      "execution_count": null,
      "outputs": [
        {
          "output_type": "stream",
          "name": "stdout",
          "text": [
            "Accuracy: 0.507\n"
          ]
        }
      ]
    },
    {
      "cell_type": "code",
      "source": [
        "# Make predictions on the testing set\n",
        "y_pred = logreg_model.predict(X_train)\n",
        "\n",
        "# Evaluate the model\n",
        "accuracy = accuracy_score(y_train, y_pred)\n",
        "print(\"Accuracy:\", accuracy)"
      ],
      "metadata": {
        "colab": {
          "base_uri": "https://localhost:8080/"
        },
        "id": "9VToygDIeEML",
        "outputId": "e796fd08-aefd-4d94-d919-f21b2c970607"
      },
      "execution_count": null,
      "outputs": [
        {
          "output_type": "stream",
          "name": "stdout",
          "text": [
            "Accuracy: 0.554\n"
          ]
        }
      ]
    },
    {
      "cell_type": "markdown",
      "source": [
        "# Random Forest"
      ],
      "metadata": {
        "id": "Pl6LPcWt5fH6"
      }
    },
    {
      "cell_type": "code",
      "source": [
        "from sklearn.ensemble import RandomForestClassifier\n",
        "\n",
        "# Xây dựng mô hình Random Forest\n",
        "rf_model = RandomForestClassifier()\n",
        "rf_model.fit(X_train, y_train)"
      ],
      "metadata": {
        "colab": {
          "base_uri": "https://localhost:8080/",
          "height": 109
        },
        "id": "aXI1Q-m85U8x",
        "outputId": "f43ccb00-9c55-4b9c-eb38-6f85dc738642"
      },
      "execution_count": null,
      "outputs": [
        {
          "output_type": "stream",
          "name": "stderr",
          "text": [
            "<ipython-input-41-b8412bd52cd8>:5: DataConversionWarning: A column-vector y was passed when a 1d array was expected. Please change the shape of y to (n_samples,), for example using ravel().\n",
            "  rf_model.fit(X_train, y_train)\n"
          ]
        },
        {
          "output_type": "execute_result",
          "data": {
            "text/plain": [
              "RandomForestClassifier()"
            ],
            "text/html": [
              "<style>#sk-container-id-6 {color: black;background-color: white;}#sk-container-id-6 pre{padding: 0;}#sk-container-id-6 div.sk-toggleable {background-color: white;}#sk-container-id-6 label.sk-toggleable__label {cursor: pointer;display: block;width: 100%;margin-bottom: 0;padding: 0.3em;box-sizing: border-box;text-align: center;}#sk-container-id-6 label.sk-toggleable__label-arrow:before {content: \"▸\";float: left;margin-right: 0.25em;color: #696969;}#sk-container-id-6 label.sk-toggleable__label-arrow:hover:before {color: black;}#sk-container-id-6 div.sk-estimator:hover label.sk-toggleable__label-arrow:before {color: black;}#sk-container-id-6 div.sk-toggleable__content {max-height: 0;max-width: 0;overflow: hidden;text-align: left;background-color: #f0f8ff;}#sk-container-id-6 div.sk-toggleable__content pre {margin: 0.2em;color: black;border-radius: 0.25em;background-color: #f0f8ff;}#sk-container-id-6 input.sk-toggleable__control:checked~div.sk-toggleable__content {max-height: 200px;max-width: 100%;overflow: auto;}#sk-container-id-6 input.sk-toggleable__control:checked~label.sk-toggleable__label-arrow:before {content: \"▾\";}#sk-container-id-6 div.sk-estimator input.sk-toggleable__control:checked~label.sk-toggleable__label {background-color: #d4ebff;}#sk-container-id-6 div.sk-label input.sk-toggleable__control:checked~label.sk-toggleable__label {background-color: #d4ebff;}#sk-container-id-6 input.sk-hidden--visually {border: 0;clip: rect(1px 1px 1px 1px);clip: rect(1px, 1px, 1px, 1px);height: 1px;margin: -1px;overflow: hidden;padding: 0;position: absolute;width: 1px;}#sk-container-id-6 div.sk-estimator {font-family: monospace;background-color: #f0f8ff;border: 1px dotted black;border-radius: 0.25em;box-sizing: border-box;margin-bottom: 0.5em;}#sk-container-id-6 div.sk-estimator:hover {background-color: #d4ebff;}#sk-container-id-6 div.sk-parallel-item::after {content: \"\";width: 100%;border-bottom: 1px solid gray;flex-grow: 1;}#sk-container-id-6 div.sk-label:hover label.sk-toggleable__label {background-color: #d4ebff;}#sk-container-id-6 div.sk-serial::before {content: \"\";position: absolute;border-left: 1px solid gray;box-sizing: border-box;top: 0;bottom: 0;left: 50%;z-index: 0;}#sk-container-id-6 div.sk-serial {display: flex;flex-direction: column;align-items: center;background-color: white;padding-right: 0.2em;padding-left: 0.2em;position: relative;}#sk-container-id-6 div.sk-item {position: relative;z-index: 1;}#sk-container-id-6 div.sk-parallel {display: flex;align-items: stretch;justify-content: center;background-color: white;position: relative;}#sk-container-id-6 div.sk-item::before, #sk-container-id-6 div.sk-parallel-item::before {content: \"\";position: absolute;border-left: 1px solid gray;box-sizing: border-box;top: 0;bottom: 0;left: 50%;z-index: -1;}#sk-container-id-6 div.sk-parallel-item {display: flex;flex-direction: column;z-index: 1;position: relative;background-color: white;}#sk-container-id-6 div.sk-parallel-item:first-child::after {align-self: flex-end;width: 50%;}#sk-container-id-6 div.sk-parallel-item:last-child::after {align-self: flex-start;width: 50%;}#sk-container-id-6 div.sk-parallel-item:only-child::after {width: 0;}#sk-container-id-6 div.sk-dashed-wrapped {border: 1px dashed gray;margin: 0 0.4em 0.5em 0.4em;box-sizing: border-box;padding-bottom: 0.4em;background-color: white;}#sk-container-id-6 div.sk-label label {font-family: monospace;font-weight: bold;display: inline-block;line-height: 1.2em;}#sk-container-id-6 div.sk-label-container {text-align: center;}#sk-container-id-6 div.sk-container {/* jupyter's `normalize.less` sets `[hidden] { display: none; }` but bootstrap.min.css set `[hidden] { display: none !important; }` so we also need the `!important` here to be able to override the default hidden behavior on the sphinx rendered scikit-learn.org. See: https://github.com/scikit-learn/scikit-learn/issues/21755 */display: inline-block !important;position: relative;}#sk-container-id-6 div.sk-text-repr-fallback {display: none;}</style><div id=\"sk-container-id-6\" class=\"sk-top-container\"><div class=\"sk-text-repr-fallback\"><pre>RandomForestClassifier()</pre><b>In a Jupyter environment, please rerun this cell to show the HTML representation or trust the notebook. <br />On GitHub, the HTML representation is unable to render, please try loading this page with nbviewer.org.</b></div><div class=\"sk-container\" hidden><div class=\"sk-item\"><div class=\"sk-estimator sk-toggleable\"><input class=\"sk-toggleable__control sk-hidden--visually\" id=\"sk-estimator-id-6\" type=\"checkbox\" checked><label for=\"sk-estimator-id-6\" class=\"sk-toggleable__label sk-toggleable__label-arrow\">RandomForestClassifier</label><div class=\"sk-toggleable__content\"><pre>RandomForestClassifier()</pre></div></div></div></div></div>"
            ]
          },
          "metadata": {},
          "execution_count": 41
        }
      ]
    },
    {
      "cell_type": "code",
      "source": [
        "# Dự đoán trên tập kiểm tra\n",
        "y_pred_rf = rf_model.predict(X_test)\n",
        "\n",
        "# Đánh giá hiệu suất\n",
        "accuracy_rf = accuracy_score(y_test, y_pred_rf)\n",
        "print(\"Random Forest Accuracy:\", accuracy_rf)"
      ],
      "metadata": {
        "colab": {
          "base_uri": "https://localhost:8080/"
        },
        "id": "OoZHWSCF5mzd",
        "outputId": "00c45707-fed0-41ad-b0ff-5a211b201302"
      },
      "execution_count": null,
      "outputs": [
        {
          "output_type": "stream",
          "name": "stdout",
          "text": [
            "Random Forest Accuracy: 0.479\n"
          ]
        }
      ]
    },
    {
      "cell_type": "code",
      "source": [
        "# Dự đoán trên tập kiểm tra\n",
        "y_pred_rf = rf_model.predict(X_train)\n",
        "\n",
        "# Đánh giá hiệu suất\n",
        "accuracy_rf = accuracy_score(y_train, y_pred_rf)\n",
        "print(\"Random Forest Accuracy:\", accuracy_rf)"
      ],
      "metadata": {
        "colab": {
          "base_uri": "https://localhost:8080/"
        },
        "id": "qAqvgpKIegTZ",
        "outputId": "4e392ed2-c019-4478-824d-d40e639de3e7"
      },
      "execution_count": null,
      "outputs": [
        {
          "output_type": "stream",
          "name": "stdout",
          "text": [
            "Random Forest Accuracy: 1.0\n"
          ]
        }
      ]
    },
    {
      "cell_type": "markdown",
      "source": [
        "# Naive Bayes"
      ],
      "metadata": {
        "id": "MHThiVxy5vw_"
      }
    },
    {
      "cell_type": "code",
      "source": [
        "from sklearn.naive_bayes import MultinomialNB\n",
        "\n",
        "# Xây dựng mô hình Naive Bayes\n",
        "nb_model = MultinomialNB()\n",
        "nb_model.fit(X_train, y_train)"
      ],
      "metadata": {
        "colab": {
          "base_uri": "https://localhost:8080/",
          "height": 129
        },
        "id": "kzIbmTQk5tdv",
        "outputId": "09d8a48e-eba2-45e3-b5bb-d63d8e4e0f0b"
      },
      "execution_count": null,
      "outputs": [
        {
          "output_type": "stream",
          "name": "stderr",
          "text": [
            "/usr/local/lib/python3.10/dist-packages/sklearn/utils/validation.py:1143: DataConversionWarning: A column-vector y was passed when a 1d array was expected. Please change the shape of y to (n_samples, ), for example using ravel().\n",
            "  y = column_or_1d(y, warn=True)\n"
          ]
        },
        {
          "output_type": "execute_result",
          "data": {
            "text/plain": [
              "MultinomialNB()"
            ],
            "text/html": [
              "<style>#sk-container-id-7 {color: black;background-color: white;}#sk-container-id-7 pre{padding: 0;}#sk-container-id-7 div.sk-toggleable {background-color: white;}#sk-container-id-7 label.sk-toggleable__label {cursor: pointer;display: block;width: 100%;margin-bottom: 0;padding: 0.3em;box-sizing: border-box;text-align: center;}#sk-container-id-7 label.sk-toggleable__label-arrow:before {content: \"▸\";float: left;margin-right: 0.25em;color: #696969;}#sk-container-id-7 label.sk-toggleable__label-arrow:hover:before {color: black;}#sk-container-id-7 div.sk-estimator:hover label.sk-toggleable__label-arrow:before {color: black;}#sk-container-id-7 div.sk-toggleable__content {max-height: 0;max-width: 0;overflow: hidden;text-align: left;background-color: #f0f8ff;}#sk-container-id-7 div.sk-toggleable__content pre {margin: 0.2em;color: black;border-radius: 0.25em;background-color: #f0f8ff;}#sk-container-id-7 input.sk-toggleable__control:checked~div.sk-toggleable__content {max-height: 200px;max-width: 100%;overflow: auto;}#sk-container-id-7 input.sk-toggleable__control:checked~label.sk-toggleable__label-arrow:before {content: \"▾\";}#sk-container-id-7 div.sk-estimator input.sk-toggleable__control:checked~label.sk-toggleable__label {background-color: #d4ebff;}#sk-container-id-7 div.sk-label input.sk-toggleable__control:checked~label.sk-toggleable__label {background-color: #d4ebff;}#sk-container-id-7 input.sk-hidden--visually {border: 0;clip: rect(1px 1px 1px 1px);clip: rect(1px, 1px, 1px, 1px);height: 1px;margin: -1px;overflow: hidden;padding: 0;position: absolute;width: 1px;}#sk-container-id-7 div.sk-estimator {font-family: monospace;background-color: #f0f8ff;border: 1px dotted black;border-radius: 0.25em;box-sizing: border-box;margin-bottom: 0.5em;}#sk-container-id-7 div.sk-estimator:hover {background-color: #d4ebff;}#sk-container-id-7 div.sk-parallel-item::after {content: \"\";width: 100%;border-bottom: 1px solid gray;flex-grow: 1;}#sk-container-id-7 div.sk-label:hover label.sk-toggleable__label {background-color: #d4ebff;}#sk-container-id-7 div.sk-serial::before {content: \"\";position: absolute;border-left: 1px solid gray;box-sizing: border-box;top: 0;bottom: 0;left: 50%;z-index: 0;}#sk-container-id-7 div.sk-serial {display: flex;flex-direction: column;align-items: center;background-color: white;padding-right: 0.2em;padding-left: 0.2em;position: relative;}#sk-container-id-7 div.sk-item {position: relative;z-index: 1;}#sk-container-id-7 div.sk-parallel {display: flex;align-items: stretch;justify-content: center;background-color: white;position: relative;}#sk-container-id-7 div.sk-item::before, #sk-container-id-7 div.sk-parallel-item::before {content: \"\";position: absolute;border-left: 1px solid gray;box-sizing: border-box;top: 0;bottom: 0;left: 50%;z-index: -1;}#sk-container-id-7 div.sk-parallel-item {display: flex;flex-direction: column;z-index: 1;position: relative;background-color: white;}#sk-container-id-7 div.sk-parallel-item:first-child::after {align-self: flex-end;width: 50%;}#sk-container-id-7 div.sk-parallel-item:last-child::after {align-self: flex-start;width: 50%;}#sk-container-id-7 div.sk-parallel-item:only-child::after {width: 0;}#sk-container-id-7 div.sk-dashed-wrapped {border: 1px dashed gray;margin: 0 0.4em 0.5em 0.4em;box-sizing: border-box;padding-bottom: 0.4em;background-color: white;}#sk-container-id-7 div.sk-label label {font-family: monospace;font-weight: bold;display: inline-block;line-height: 1.2em;}#sk-container-id-7 div.sk-label-container {text-align: center;}#sk-container-id-7 div.sk-container {/* jupyter's `normalize.less` sets `[hidden] { display: none; }` but bootstrap.min.css set `[hidden] { display: none !important; }` so we also need the `!important` here to be able to override the default hidden behavior on the sphinx rendered scikit-learn.org. See: https://github.com/scikit-learn/scikit-learn/issues/21755 */display: inline-block !important;position: relative;}#sk-container-id-7 div.sk-text-repr-fallback {display: none;}</style><div id=\"sk-container-id-7\" class=\"sk-top-container\"><div class=\"sk-text-repr-fallback\"><pre>MultinomialNB()</pre><b>In a Jupyter environment, please rerun this cell to show the HTML representation or trust the notebook. <br />On GitHub, the HTML representation is unable to render, please try loading this page with nbviewer.org.</b></div><div class=\"sk-container\" hidden><div class=\"sk-item\"><div class=\"sk-estimator sk-toggleable\"><input class=\"sk-toggleable__control sk-hidden--visually\" id=\"sk-estimator-id-7\" type=\"checkbox\" checked><label for=\"sk-estimator-id-7\" class=\"sk-toggleable__label sk-toggleable__label-arrow\">MultinomialNB</label><div class=\"sk-toggleable__content\"><pre>MultinomialNB()</pre></div></div></div></div></div>"
            ]
          },
          "metadata": {},
          "execution_count": 44
        }
      ]
    },
    {
      "cell_type": "code",
      "source": [
        "# Dự đoán trên tập kiểm tra\n",
        "y_pred_nb = nb_model.predict(X_test)\n",
        "\n",
        "# Đánh giá hiệu suất\n",
        "accuracy_nb = accuracy_score(y_test, y_pred_nb)\n",
        "print(\"Naive Bayes Accuracy:\", accuracy_nb)"
      ],
      "metadata": {
        "colab": {
          "base_uri": "https://localhost:8080/"
        },
        "id": "1Qg7WWL0502d",
        "outputId": "f94b385b-bb19-4408-cc96-93034b8232dc"
      },
      "execution_count": null,
      "outputs": [
        {
          "output_type": "stream",
          "name": "stdout",
          "text": [
            "Naive Bayes Accuracy: 0.508\n"
          ]
        }
      ]
    },
    {
      "cell_type": "code",
      "source": [
        "# Dự đoán trên tập kiểm tra\n",
        "y_pred_nb = nb_model.predict(X_train)\n",
        "\n",
        "# Đánh giá hiệu suất\n",
        "accuracy_nb = accuracy_score(y_train, y_pred_nb)\n",
        "print(\"Naive Bayes Accuracy:\", accuracy_nb)"
      ],
      "metadata": {
        "id": "Z9o5_Otw-Tjv",
        "colab": {
          "base_uri": "https://localhost:8080/"
        },
        "outputId": "be503c43-07c9-4160-f88a-8e4632b449f5"
      },
      "execution_count": null,
      "outputs": [
        {
          "output_type": "stream",
          "name": "stdout",
          "text": [
            "Naive Bayes Accuracy: 0.558\n"
          ]
        }
      ]
    }
  ]
}